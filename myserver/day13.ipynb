{
 "cells": [
  {
   "cell_type": "code",
   "execution_count": null,
   "id": "78d5da3f-7cae-447f-8c16-a2bba24c4533",
   "metadata": {},
   "outputs": [],
   "source": [
    "# Server\n",
    "# requests 라이브러리 활용해\n",
    "# get방식으로 server에 요청하는 client 역할\n",
    "\n",
    "# Python에서 Server\n",
    "# Flask vs Django\n",
    "# Django : 보안 정책, 풀 패키지로 구성된 프레임워크\n",
    "# Flask : 마이크로 웹 프레임워크 (굉장히 간단, 기본 기능 X)\n",
    "# Flask를 활용하여 나만의 Custom Web Server"
   ]
  },
  {
   "cell_type": "code",
   "execution_count": null,
   "id": "5fdb0e5a-1114-4f93-aa0a-aa443793317d",
   "metadata": {},
   "outputs": [
    {
     "name": "stdout",
     "output_type": "stream",
     "text": [
      "Requirement already satisfied: flask in c:\\programdata\\anaconda3\\envs\\myenv\\lib\\site-packages (3.1.1)\n",
      "Requirement already satisfied: blinker>=1.9.0 in c:\\programdata\\anaconda3\\envs\\myenv\\lib\\site-packages (from flask) (1.9.0)\n",
      "Requirement already satisfied: click>=8.1.3 in c:\\programdata\\anaconda3\\envs\\myenv\\lib\\site-packages (from flask) (8.1.8)\n",
      "Requirement already satisfied: importlib-metadata>=3.6.0 in c:\\programdata\\anaconda3\\envs\\myenv\\lib\\site-packages (from flask) (8.7.0)\n",
      "Requirement already satisfied: itsdangerous>=2.2.0 in c:\\programdata\\anaconda3\\envs\\myenv\\lib\\site-packages (from flask) (2.2.0)\n",
      "Requirement already satisfied: jinja2>=3.1.2 in c:\\programdata\\anaconda3\\envs\\myenv\\lib\\site-packages (from flask) (3.1.6)\n",
      "Requirement already satisfied: markupsafe>=2.1.1 in c:\\programdata\\anaconda3\\envs\\myenv\\lib\\site-packages (from flask) (3.0.2)\n",
      "Requirement already satisfied: werkzeug>=3.1.0 in c:\\programdata\\anaconda3\\envs\\myenv\\lib\\site-packages (from flask) (3.1.3)\n",
      "Requirement already satisfied: colorama in c:\\programdata\\anaconda3\\envs\\myenv\\lib\\site-packages (from click>=8.1.3->flask) (0.4.6)\n",
      "Requirement already satisfied: zipp>=3.20 in c:\\programdata\\anaconda3\\envs\\myenv\\lib\\site-packages (from importlib-metadata>=3.6.0->flask) (3.23.0)\n"
     ]
    }
   ],
   "source": [
    "!pip install flask"
   ]
  },
  {
   "cell_type": "code",
   "execution_count": null,
   "id": "8372839e-11b8-40be-be9d-13609e6632fd",
   "metadata": {},
   "outputs": [],
   "source": [
    "from flask import Flask, render\n",
    "from flask import request\n",
    "Flask(__name__)\n",
    "\n",
    "@app.route(\"/\")\n",
    "def index():\n",
    "    return \"render_template(\"home.html\")\n",
    "\n",
    "@app_route(\"/\")\n",
    "def index():\n",
    "    return render_template(\"home.html\")\n",
    "\n",
    "@app.route(\"/login\", methods=[\"GET\"])\n",
    "def login()\"\"\n",
    "    \n",
    "    if request.method == \"GET\":\n",
    "\n",
    "        login_id = request.args[\"login_id\"]\n",
    "        login_pw = request.args[\"login_pw\"]\n",
    "\n",
    "        return f\"{login_id}님 환영합니다\"\n",
    "    \n",
    "    return \"로그인 실패\"\n",
    "\n",
    "\n",
    "if __name__ == \"__main__\":\n",
    "    # 1. host\n",
    "    # 2. port\n",
    "    app.run(host-\"0.0.0.0\")\n"
   ]
  }
 ],
 "metadata": {
  "kernelspec": {
   "display_name": "Python 3 (ipykernel)",
   "language": "python",
   "name": "python3"
  },
  "language_info": {
   "codemirror_mode": {
    "name": "ipython",
    "version": 3
   },
   "file_extension": ".py",
   "mimetype": "text/x-python",
   "name": "python",
   "nbconvert_exporter": "python",
   "pygments_lexer": "ipython3",
   "version": "3.9.23"
  }
 },
 "nbformat": 4,
 "nbformat_minor": 5
}
